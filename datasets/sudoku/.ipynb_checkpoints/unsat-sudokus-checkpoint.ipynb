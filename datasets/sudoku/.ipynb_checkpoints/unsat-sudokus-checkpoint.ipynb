{
 "cells": [
  {
   "cell_type": "code",
   "execution_count": 2,
   "id": "82999e2a",
   "metadata": {},
   "outputs": [],
   "source": [
    "import cpmpy as cp\n",
    "import numpy as np\n"
   ]
  },
  {
   "cell_type": "code",
   "execution_count": 39,
   "id": "febf6788",
   "metadata": {},
   "outputs": [],
   "source": [
    "def difficult_conflict_at(row, col, given, uniq_solution):\n",
    "\n",
    "    n = int(len(given) ** (0.5))\n",
    "\n",
    "    if given[row, col] != 0:\n",
    "        return []\n",
    "\n",
    "    candidate_values = []\n",
    "    for v in range(1, len(given)+1):\n",
    "        if v == uniq_solution[row, col]:\n",
    "            continue\n",
    "        # same row or same col\n",
    "        if v in given[row,:] or v in given[:, col]:\n",
    "            continue\n",
    "        if v in given[row:row+n, col:col+n]:\n",
    "            continue\n",
    "        candidate_values.append(v)\n",
    "\n",
    "    return candidate_values\n",
    "\n",
    "def difficult_conflicts(given, uniq_solution):\n",
    "    \"\"\"Generate candidate inconsistencies for each position.\n",
    "    Filter out the too obvious inconsistencies.\"\"\"\n",
    "    position_conflicts = {}\n",
    "    \n",
    "    # \n",
    "    n = int(len(given) ** (0.5))\n",
    "    for i in range(len(given)):\n",
    "        for j in range(len(given[0])):\n",
    "            if given[i, j] != 0:\n",
    "                continue\n",
    "            candidate_values = []\n",
    "            for v in range(1, len(given)+1):\n",
    "                if v == uniq_solution[i, j]:\n",
    "                    continue\n",
    "                # same row or same col\n",
    "                if v in given[i,:] or v in given[:, j]:\n",
    "                    continue\n",
    "                if v in given[i:i+n, j:j+n]:\n",
    "                    continue\n",
    "                candidate_values.append(v)\n",
    "            \n",
    "            position_conflicts[(i, j)] = candidate_values\n",
    "    \n",
    "            print(position_conflicts[(i, j)])\n",
    "    \n",
    "    return position_conflicts\n",
    "\n",
    "\n",
    "def model_unsat_sudoku(dim=9, total_errors=1, total_extra_givens=1, seed=0):\n",
    "    # assert dims[0] == dims[1], f\"Sudoku should be modeled as a square nrows, ncols=({dims[0]}, {dims[1]})\"\n",
    "    np.random.seed(seed)\n",
    "\n",
    "    e = 0\n",
    "\n",
    "    puzzle = cp.intvar(lb=1, ub=dim, shape=(dim,dim))\n",
    "    given = np.zeros(shape=(dim,dim), dtype=int)\n",
    "\n",
    "    indices_to_update = np.random.choice(dim*dim, replace=False, size=dim)\n",
    "    indices = np.unravel_index(indices_to_update, given.shape)\n",
    "\n",
    "    given[indices] = np.arange(1, dim+1, dtype=int)\n",
    "\n",
    "    model = cp.Model(\n",
    "      # Constraints on rows and columns\n",
    "      (puzzle[given!=e] == given[given!=e]),\n",
    "      [cp.AllDifferent(row) for row in puzzle],\n",
    "      [cp.AllDifferent(col) for col in puzzle.T], # numpy's Transpose\n",
    "    )\n",
    "    # Constraints on blocks\n",
    "    n = int(dim ** (1/2))\n",
    "    for i in range(0,dim, n):\n",
    "        for j in range(0,dim, n):\n",
    "            model += cp.AllDifferent(puzzle[i:i+n, j:j+n]) # python's indexing\n",
    "\n",
    "    nsol = model.solveAll(solution_limit=2)\n",
    "    uniq_solution = puzzle.value()\n",
    "\n",
    "    givens_cons = (puzzle == uniq_solution)\n",
    "\n",
    "    remaining_unraveled_indices = list(set(range(dim*dim)) - set(indices_to_update))\n",
    "    remaining_indices = np.random.choice(remaining_unraveled_indices, size=len(remaining_unraveled_indices), replace=False)\n",
    "\n",
    "    num_taken = 0\n",
    "    num_extra_givens = 0\n",
    "\n",
    "    #\n",
    "    while(nsol > 1  and num_taken < len(remaining_unraveled_indices) and num_extra_givens < total_extra_givens):\n",
    "        unraveld_indices = np.unravel_index([remaining_indices[num_taken]], given.shape)\n",
    "        con = givens_cons[unraveld_indices]\n",
    "        given[unraveld_indices] = uniq_solution[unraveld_indices]\n",
    "        model += con\n",
    "        nsol = model.solveAll(solution_limit=2)\n",
    "\n",
    "        if nsol == 1:\n",
    "            num_extra_givens += 1\n",
    "\n",
    "        num_taken += 1\n",
    "    sat_sudoku = np.array(given)\n",
    "\n",
    "    ## adding some errors\n",
    "    num_errors = 0\n",
    "\n",
    "    while(num_errors < total_errors and num_taken < len(remaining_unraveled_indices)):\n",
    "        ##\n",
    "        \n",
    "        unraveld_indices = np.unravel_index([remaining_indices[num_taken]], given.shape)\n",
    "        row, col = unraveld_indices[0][0], unraveld_indices[1][0]\n",
    "        \n",
    "        remaining_values = difficult_conflict_at(row, col, given, uniq_solution)\n",
    "\n",
    "        if len(remaining_values) == 0:\n",
    "            num_taken += 1\n",
    "            continue\n",
    "        \n",
    "        val = np.random.choice(remaining_values, replace=False, size=1)\n",
    "        given[unraveld_indices] = val\n",
    "        print(unraveld_indices, val)\n",
    "\n",
    "        num_taken += 1\n",
    "        num_errors += 1\n",
    "\n",
    "    return {\"givens\" :given, \"sat\": sat_sudoku}"
   ]
  },
  {
   "cell_type": "code",
   "execution_count": 42,
   "id": "5d0ab7b6",
   "metadata": {},
   "outputs": [
    {
     "name": "stdout",
     "output_type": "stream",
     "text": [
      "(array([5]), array([4])) [3]\n",
      "(array([1]), array([6])) [9]\n",
      "(array([3]), array([4])) [5]\n",
      "(array([2]), array([0])) [9]\n",
      "(array([8]), array([7])) [2]\n",
      "UNSAT Sudoku:\n",
      "[[0 1 0 0 6 0 5 4 2]\n",
      " [0 0 5 2 4 0 9 0 8]\n",
      " [9 0 4 0 1 0 7 0 3]\n",
      " [2 6 8 7 5 4 0 0 0]\n",
      " [7 5 0 0 0 8 2 0 4]\n",
      " [0 0 1 6 3 2 0 0 9]\n",
      " [0 8 0 0 7 9 0 3 6]\n",
      " [0 9 0 0 8 6 0 0 5]\n",
      " [4 0 6 0 0 0 0 2 7]]\n",
      "SAT Sudoku:\n",
      "[[0 1 0 0 6 0 5 4 2]\n",
      " [0 0 5 2 4 0 0 0 8]\n",
      " [0 0 4 0 1 0 7 0 3]\n",
      " [2 6 8 7 0 4 0 0 0]\n",
      " [7 5 0 0 0 8 2 0 4]\n",
      " [0 0 1 6 0 2 0 0 9]\n",
      " [0 8 0 0 7 9 0 3 6]\n",
      " [0 9 0 0 8 6 0 0 5]\n",
      " [4 0 6 0 0 0 0 0 7]]\n"
     ]
    }
   ],
   "source": [
    "unsat_sudoku = model_unsat_sudoku(total_errors=5)\n",
    "print(\"UNSAT Sudoku:\")\n",
    "print(unsat_sudoku['givens'])\n",
    "print(\"SAT Sudoku:\")\n",
    "print(unsat_sudoku['sat'])"
   ]
  },
  {
   "cell_type": "code",
   "execution_count": 6,
   "id": "4594910c",
   "metadata": {},
   "outputs": [
    {
     "data": {
      "text/plain": [
       "{'givens': array([[0, 1, 0, 0, 6, 0, 5, 4, 2],\n",
       "        [0, 0, 5, 2, 4, 0, 0, 0, 8],\n",
       "        [0, 0, 4, 0, 1, 0, 7, 0, 3],\n",
       "        [2, 6, 8, 7, 0, 4, 0, 0, 0],\n",
       "        [7, 5, 0, 0, 0, 8, 2, 0, 4],\n",
       "        [0, 0, 1, 6, 2, 2, 0, 0, 9],\n",
       "        [0, 8, 0, 0, 7, 9, 0, 3, 6],\n",
       "        [0, 9, 0, 0, 8, 6, 0, 0, 5],\n",
       "        [4, 0, 6, 0, 0, 0, 0, 0, 7]])}"
      ]
     },
     "execution_count": 6,
     "metadata": {},
     "output_type": "execute_result"
    }
   ],
   "source": []
  },
  {
   "cell_type": "code",
   "execution_count": 26,
   "id": "e905c139",
   "metadata": {},
   "outputs": [],
   "source": [
    "A = np.array([[j + i* 10 for j in range(10)]for i in range(10)])\n"
   ]
  },
  {
   "cell_type": "code",
   "execution_count": 28,
   "id": "a5d71fb0",
   "metadata": {},
   "outputs": [
    {
     "data": {
      "text/plain": [
       "array([[33, 34],\n",
       "       [43, 44]])"
      ]
     },
     "execution_count": 28,
     "metadata": {},
     "output_type": "execute_result"
    }
   ],
   "source": [
    "A[3:5, 3:5]"
   ]
  },
  {
   "cell_type": "code",
   "execution_count": null,
   "id": "8dfb37bb",
   "metadata": {},
   "outputs": [],
   "source": []
  }
 ],
 "metadata": {
  "kernelspec": {
   "display_name": "Python 3 (ipykernel)",
   "language": "python",
   "name": "python3"
  },
  "language_info": {
   "codemirror_mode": {
    "name": "ipython",
    "version": 3
   },
   "file_extension": ".py",
   "mimetype": "text/x-python",
   "name": "python",
   "nbconvert_exporter": "python",
   "pygments_lexer": "ipython3",
   "version": "3.10.2"
  }
 },
 "nbformat": 4,
 "nbformat_minor": 5
}
